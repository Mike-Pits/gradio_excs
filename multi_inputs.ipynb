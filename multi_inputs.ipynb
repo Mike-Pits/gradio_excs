{
 "cells": [
  {
   "cell_type": "code",
   "execution_count": 72,
   "metadata": {},
   "outputs": [],
   "source": [
    "import gradio as gr"
   ]
  },
  {
   "cell_type": "code",
   "execution_count": 73,
   "metadata": {},
   "outputs": [],
   "source": [
    "def bmi(name, height, weight):\n",
    "    bmi_val = round(int(weight) / ((height/ 100) ** 2), 2)\n",
    "    result_emoticon = \"😀\" if bmi_val < 25 else \"😭\"\n",
    "    output_str = \"Hello 👋 \" + name + \"!\\nYour BMI is \" + str(bmi_val)\n",
    "    return (output_str, result_emoticon)"
   ]
  },
  {
   "cell_type": "code",
   "execution_count": 74,
   "metadata": {},
   "outputs": [
    {
     "data": {
      "text/plain": [
       "('Hello 👋 Mikee!\\nYour BMI is 24.57', '😀')"
      ]
     },
     "execution_count": 74,
     "metadata": {},
     "output_type": "execute_result"
    }
   ],
   "source": [
    "bmi(\"Mikee\", 170, 71)"
   ]
  },
  {
   "cell_type": "code",
   "execution_count": 75,
   "metadata": {},
   "outputs": [],
   "source": [
    "interface = gr.Interface(\n",
    "    fn= bmi,\n",
    "    inputs = [gr. Textbox(label='NAME'), gr.Slider(0, 200, label = 'Height in cms'),\n",
    "    gr.Slider(0, 100, label= \"Weight in kgs\")],\n",
    "    outputs= ['text', 'text'],\n",
    "    live=True\n",
    ")"
   ]
  },
  {
   "cell_type": "code",
   "execution_count": 76,
   "metadata": {},
   "outputs": [
    {
     "name": "stdout",
     "output_type": "stream",
     "text": [
      "Running on local URL:  http://127.0.0.1:7875\n",
      "\n",
      "To create a public link, set `share=True` in `launch()`.\n"
     ]
    },
    {
     "data": {
      "text/html": [
       "<div><iframe src=\"http://127.0.0.1:7875/\" width=\"100%\" height=\"500\" allow=\"autoplay; camera; microphone; clipboard-read; clipboard-write;\" frameborder=\"0\" allowfullscreen></iframe></div>"
      ],
      "text/plain": [
       "<IPython.core.display.HTML object>"
      ]
     },
     "metadata": {},
     "output_type": "display_data"
    },
    {
     "data": {
      "text/plain": []
     },
     "execution_count": 76,
     "metadata": {},
     "output_type": "execute_result"
    },
    {
     "name": "stderr",
     "output_type": "stream",
     "text": [
      "Traceback (most recent call last):\n",
      "  File \"/home/mike-pi/miniconda3/envs/gradio-env/lib/python3.12/site-packages/gradio/queueing.py\", line 532, in process_events\n",
      "    response = await route_utils.call_process_api(\n",
      "               ^^^^^^^^^^^^^^^^^^^^^^^^^^^^^^^^^^^\n",
      "  File \"/home/mike-pi/miniconda3/envs/gradio-env/lib/python3.12/site-packages/gradio/route_utils.py\", line 276, in call_process_api\n",
      "    output = await app.get_blocks().process_api(\n",
      "             ^^^^^^^^^^^^^^^^^^^^^^^^^^^^^^^^^^^\n",
      "  File \"/home/mike-pi/miniconda3/envs/gradio-env/lib/python3.12/site-packages/gradio/blocks.py\", line 1928, in process_api\n",
      "    result = await self.call_function(\n",
      "             ^^^^^^^^^^^^^^^^^^^^^^^^^\n",
      "  File \"/home/mike-pi/miniconda3/envs/gradio-env/lib/python3.12/site-packages/gradio/blocks.py\", line 1514, in call_function\n",
      "    prediction = await anyio.to_thread.run_sync(\n",
      "                 ^^^^^^^^^^^^^^^^^^^^^^^^^^^^^^^\n",
      "  File \"/home/mike-pi/miniconda3/envs/gradio-env/lib/python3.12/site-packages/anyio/to_thread.py\", line 56, in run_sync\n",
      "    return await get_async_backend().run_sync_in_worker_thread(\n",
      "           ^^^^^^^^^^^^^^^^^^^^^^^^^^^^^^^^^^^^^^^^^^^^^^^^^^^^\n",
      "  File \"/home/mike-pi/miniconda3/envs/gradio-env/lib/python3.12/site-packages/anyio/_backends/_asyncio.py\", line 2177, in run_sync_in_worker_thread\n",
      "    return await future\n",
      "           ^^^^^^^^^^^^\n",
      "  File \"/home/mike-pi/miniconda3/envs/gradio-env/lib/python3.12/site-packages/anyio/_backends/_asyncio.py\", line 859, in run\n",
      "    result = context.run(func, *args)\n",
      "             ^^^^^^^^^^^^^^^^^^^^^^^^\n",
      "  File \"/home/mike-pi/miniconda3/envs/gradio-env/lib/python3.12/site-packages/gradio/utils.py\", line 832, in wrapper\n",
      "    response = f(*args, **kwargs)\n",
      "               ^^^^^^^^^^^^^^^^^^\n",
      "  File \"/tmp/ipykernel_8346/2912939930.py\", line 2, in bmi\n",
      "    bmi_val = round(int(weight) / ((height/ 100) ** 2), 2)\n",
      "                    ~~~~~~~~~~~~^~~~~~~~~~~~~~~~~~~~~~\n",
      "ZeroDivisionError: float division by zero\n",
      "Traceback (most recent call last):\n",
      "  File \"/home/mike-pi/miniconda3/envs/gradio-env/lib/python3.12/site-packages/gradio/queueing.py\", line 532, in process_events\n",
      "    response = await route_utils.call_process_api(\n",
      "               ^^^^^^^^^^^^^^^^^^^^^^^^^^^^^^^^^^^\n",
      "  File \"/home/mike-pi/miniconda3/envs/gradio-env/lib/python3.12/site-packages/gradio/route_utils.py\", line 276, in call_process_api\n",
      "    output = await app.get_blocks().process_api(\n",
      "             ^^^^^^^^^^^^^^^^^^^^^^^^^^^^^^^^^^^\n",
      "  File \"/home/mike-pi/miniconda3/envs/gradio-env/lib/python3.12/site-packages/gradio/blocks.py\", line 1928, in process_api\n",
      "    result = await self.call_function(\n",
      "             ^^^^^^^^^^^^^^^^^^^^^^^^^\n",
      "  File \"/home/mike-pi/miniconda3/envs/gradio-env/lib/python3.12/site-packages/gradio/blocks.py\", line 1514, in call_function\n",
      "    prediction = await anyio.to_thread.run_sync(\n",
      "                 ^^^^^^^^^^^^^^^^^^^^^^^^^^^^^^^\n",
      "  File \"/home/mike-pi/miniconda3/envs/gradio-env/lib/python3.12/site-packages/anyio/to_thread.py\", line 56, in run_sync\n",
      "    return await get_async_backend().run_sync_in_worker_thread(\n",
      "           ^^^^^^^^^^^^^^^^^^^^^^^^^^^^^^^^^^^^^^^^^^^^^^^^^^^^\n",
      "  File \"/home/mike-pi/miniconda3/envs/gradio-env/lib/python3.12/site-packages/anyio/_backends/_asyncio.py\", line 2177, in run_sync_in_worker_thread\n",
      "    return await future\n",
      "           ^^^^^^^^^^^^\n",
      "  File \"/home/mike-pi/miniconda3/envs/gradio-env/lib/python3.12/site-packages/anyio/_backends/_asyncio.py\", line 859, in run\n",
      "    result = context.run(func, *args)\n",
      "             ^^^^^^^^^^^^^^^^^^^^^^^^\n",
      "  File \"/home/mike-pi/miniconda3/envs/gradio-env/lib/python3.12/site-packages/gradio/utils.py\", line 832, in wrapper\n",
      "    response = f(*args, **kwargs)\n",
      "               ^^^^^^^^^^^^^^^^^^\n",
      "  File \"/tmp/ipykernel_8346/2912939930.py\", line 2, in bmi\n",
      "    bmi_val = round(int(weight) / ((height/ 100) ** 2), 2)\n",
      "                    ~~~~~~~~~~~~^~~~~~~~~~~~~~~~~~~~~~\n",
      "ZeroDivisionError: float division by zero\n"
     ]
    }
   ],
   "source": [
    "interface.launch(auth=('user', '1234'))"
   ]
  },
  {
   "cell_type": "code",
   "execution_count": null,
   "metadata": {},
   "outputs": [],
   "source": []
  }
 ],
 "metadata": {
  "kernelspec": {
   "display_name": "gradio-env",
   "language": "python",
   "name": "python3"
  },
  "language_info": {
   "codemirror_mode": {
    "name": "ipython",
    "version": 3
   },
   "file_extension": ".py",
   "mimetype": "text/x-python",
   "name": "python",
   "nbconvert_exporter": "python",
   "pygments_lexer": "ipython3",
   "version": "3.12.4"
  }
 },
 "nbformat": 4,
 "nbformat_minor": 2
}
